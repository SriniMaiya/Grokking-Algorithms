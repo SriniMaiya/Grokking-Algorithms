{
 "cells": [
  {
   "cell_type": "markdown",
   "metadata": {},
   "source": [
    "# Binary Search. \n",
    "\n",
    "\n",
    "![Binary Search](https://encrypted-tbn0.gstatic.com/images?q=tbn:ANd9GcT5KVDAadPN-LvVP5TUgf6fCpwTEKr4WmTm3A&usqp=CAU)\n",
    "\n",
    "- Works only when the list is sorted.\n",
    "### Big O\n",
    ">- $O(log_{2} (n))$  for  worse and average case  \n",
    "  \n",
    ">- $O(1)$      for  best case"
   ]
  },
  {
   "cell_type": "markdown",
   "metadata": {},
   "source": [
    "### Notes:\n",
    "- As the time complexity of Binary search is $ log_{2}(n) $, the worst case scenarios are as follows.  \n",
    "\n",
    "  \n",
    "| ***n*** (length)| Time Complexity: $ log_{2}(n) $|maximum iterations(steps) |\n",
    "|:----:|:----:|:----:|\n",
    "|8|$ log_{2}(8)  $|= 3|\n",
    "|100|$ log_{2}(8)  $|=7|\n",
    "|1024|$ log_{2}(1024) $|= 10 |\n",
    "|4294967296|$ log_{2}(4294967296)$| = 32 |\n",
    "\n",
    "  \n",
    "&emsp;&emsp; where n = number of elements to be searched in.  \n",
    "* * *\n",
    "- Doubling the length of the list, would add one extra iterations.  \n",
    "      \n",
    "    $=> if$ $n = 2n:$  \n",
    "  &emsp; &emsp;&emsp; $log_{2}(2*n) = log_{2}(2) + log_{2}(n) = 1 + log_{2}(n) $"
   ]
  },
  {
   "cell_type": "code",
   "execution_count": 1,
   "metadata": {},
   "outputs": [],
   "source": [
    "from typing import Union\n",
    "\n",
    "\n",
    "def binary_search(values: list[int], target: int) -> Union[int, None]:\n",
    "    # Low and high are assigned to the first and last indices of list respectively\n",
    "    low = 0\n",
    "    high = len(values) - 1\n",
    "    iter = 1\n",
    "    print(f\"\\n---> Target: {target}\\n\")\n",
    "    # If high is negative => Length of list is 0, so return None\n",
    "    if high < 0:\n",
    "        return None\n",
    "\n",
    "    # If low does not exceed high, then the length of list is greater than or equal to  1\n",
    "    while low <= high:\n",
    "        # Computer middle, floor with mod and set guess to mid element\n",
    "        middle = (low + high) // 2\n",
    "        # Print to console\n",
    "        print(\n",
    "            f\"{iter}. low = {low},\\t high = {high},\\t middle/guess = {middle}.\\t Searching in {low}-{high}\"\n",
    "        )\n",
    "        guess = values[middle]\n",
    "        # Return guess if it is the target\n",
    "        if guess == target:\n",
    "            print(f\"\\nFound after {iter} iterations\")\n",
    "            return guess\n",
    "        # If guess is less than target, then the other half must be searched.\n",
    "        if guess < target:\n",
    "            print(f\"** target > middle \\n\")\n",
    "            # Set low to next index of middle\n",
    "            low = middle + 1\n",
    "        else:\n",
    "            print(f\"** target < middle \\n\")\n",
    "\n",
    "            # On contrary if guess is higher than target, then the first hald must be searched.\n",
    "            # Set high to the index before middle.\n",
    "            high = middle - 1\n",
    "        iter += 1\n",
    "\n",
    "    # Return None by default.\n",
    "    return None\n"
   ]
  },
  {
   "cell_type": "code",
   "execution_count": 2,
   "metadata": {},
   "outputs": [
    {
     "name": "stdout",
     "output_type": "stream",
     "text": [
      "\n",
      "---> Target: 42\n",
      "\n",
      "1. low = 0,\t high = 99,\t middle/guess = 49.\t Searching in 0-99\n",
      "** target < middle \n",
      "\n",
      "2. low = 0,\t high = 48,\t middle/guess = 24.\t Searching in 0-48\n",
      "** target > middle \n",
      "\n",
      "3. low = 25,\t high = 48,\t middle/guess = 36.\t Searching in 25-48\n",
      "** target > middle \n",
      "\n",
      "4. low = 37,\t high = 48,\t middle/guess = 42.\t Searching in 37-48\n",
      "\n",
      "Found after 4 iterations\n"
     ]
    },
    {
     "data": {
      "text/plain": [
       "42"
      ]
     },
     "execution_count": 2,
     "metadata": {},
     "output_type": "execute_result"
    }
   ],
   "source": [
    "values = [y for y in range(100)]\n",
    "target = 42\n",
    "binary_search(values=values, target=target)"
   ]
  }
 ],
 "metadata": {
  "kernelspec": {
   "display_name": "Python 3",
   "language": "python",
   "name": "python3"
  },
  "language_info": {
   "codemirror_mode": {
    "name": "ipython",
    "version": 3
   },
   "file_extension": ".py",
   "mimetype": "text/x-python",
   "name": "python",
   "nbconvert_exporter": "python",
   "pygments_lexer": "ipython3",
   "version": "3.10.6"
  },
  "orig_nbformat": 4
 },
 "nbformat": 4,
 "nbformat_minor": 2
}
