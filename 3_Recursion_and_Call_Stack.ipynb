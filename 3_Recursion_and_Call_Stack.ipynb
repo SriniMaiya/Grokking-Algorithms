{
 "cells": [
  {
   "cell_type": "markdown",
   "metadata": {},
   "source": [
    "# Recursive Function\n",
    "\n",
    "- A function that calls itself with simpler version of itself, until the base-case is met.  \n",
    "<br>\n",
    "- Can be defined by two properties.\n",
    "    - `Base case`: The terminating case, where no more recursion is needed to produce the answer.\n",
    "    - `Recursive step`: The set of rules which reduce the successive cases towards the base case. \n",
    "    "
   ]
  },
  {
   "cell_type": "code",
   "execution_count": 1,
   "metadata": {},
   "outputs": [],
   "source": [
    "def countdown(i):\n",
    "    #Base case which terminated the recursive call\n",
    "    if i <= 0:\n",
    "        print('Liftoff!')\n",
    "        return\n",
    "    # Recursive step which reduces the successive cases by 1, to reach the base case\n",
    "    else:\n",
    "        print(i, end=\" .. \")\n",
    "        countdown(i=i-1)"
   ]
  },
  {
   "cell_type": "code",
   "execution_count": 2,
   "metadata": {},
   "outputs": [
    {
     "name": "stdout",
     "output_type": "stream",
     "text": [
      "10 .. 9 .. 8 .. 7 .. 6 .. 5 .. 4 .. 3 .. 2 .. 1 .. Liftoff!\n"
     ]
    }
   ],
   "source": [
    "countdown(10)"
   ]
  },
  {
   "cell_type": "markdown",
   "metadata": {},
   "source": [
    "# Call stack\n",
    "\n",
    "- A stack data structure, that stores variables, information of active subroutines of a computer program.\n",
    "- All function calls go onto the call stack. \n",
    "- Has two operations, `push`, `pop`.\n",
    "- Follows LIFO (Last In First Out) principle.\n",
    "\n",
    "```python\n",
    "def greet(name:str):\n",
    "    print(f\"Hello {name}. How are you?\")\n",
    "    \n",
    "def bye():\n",
    "    print(f\"See you again!\")\n",
    "\n",
    "def greet_bye(name:str):\n",
    "    print(f\"Geetings...\")\n",
    "    greet(name)\n",
    "    print(\"Saying goodbye...!\")\n",
    "    bye()\n",
    "    print(\"Done\")\n",
    "\n",
    "```\n",
    "- Assuming the print() as not a function for the sake of simplicity:\n",
    "    The call stack looks roughly like this.\n",
    "\n",
    "    ![callstack](./drawio/callstack.png)\n",
    "\n"
   ]
  }
 ],
 "metadata": {
  "kernelspec": {
   "display_name": "Python 3",
   "language": "python",
   "name": "python3"
  },
  "language_info": {
   "codemirror_mode": {
    "name": "ipython",
    "version": 3
   },
   "file_extension": ".py",
   "mimetype": "text/x-python",
   "name": "python",
   "nbconvert_exporter": "python",
   "pygments_lexer": "ipython3",
   "version": "3.10.6"
  },
  "orig_nbformat": 4
 },
 "nbformat": 4,
 "nbformat_minor": 2
}
