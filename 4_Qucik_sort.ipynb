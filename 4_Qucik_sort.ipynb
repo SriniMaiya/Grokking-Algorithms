{
 "cells": [
  {
   "cell_type": "markdown",
   "metadata": {},
   "source": [
    "# Quicksort\n",
    "\n",
    "- Divide and conquer algorithm.\n",
    "\n",
    "- Works by selecting a pivot and partitioning the array into 2 subarrays which are less than and greater than the pivot.\n",
    "- The unsorted subarrays are sorted by the same logic as above and the sorting stops, once all the resulting subarrays have a length of 1."
   ]
  },
  {
   "cell_type": "code",
   "execution_count": 1,
   "metadata": {},
   "outputs": [],
   "source": [
    "def quicksort(array: list) -> list:\n",
    "    # Base-Case: if lenght of array is less than or equal to 1, return the array.\n",
    "    if len(array) <= 1:\n",
    "        return array\n",
    "    # Recursive-Case:\n",
    "    else:\n",
    "        # Choose a pivot (Here the first element of the array is chosen)\n",
    "        pivot = array[0]\n",
    "        # Divide the original array into 2 subarrays, with all the elements < pivot in smaller_subarray\n",
    "        # and all the elements > pivot in larger_subarray.\n",
    "        smaller_subarray = [x for x in array[1:] if x <= pivot]\n",
    "        larger_subarray = [x for x in array[1:] if x > pivot]\n",
    "        # Apply recursion on the subarrays, till the Base-Case is reached.\n",
    "        # The pivot which is already in Base-Case stays in its place and once\n",
    "        # all the subarrays reach the base-case, the arrays are concatenated usring '+' operator.\n",
    "        return quicksort(smaller_subarray) + [pivot] + quicksort(larger_subarray)"
   ]
  },
  {
   "cell_type": "code",
   "execution_count": 2,
   "metadata": {},
   "outputs": [
    {
     "name": "stdout",
     "output_type": "stream",
     "text": [
      "[47, 208, 438, 461, 507, 553, 553, 622, 737, 829, 852, 921, 921, 944, 990]\n"
     ]
    }
   ],
   "source": [
    "from random import randrange\n",
    "\n",
    "randints = [randrange(1,1000,23) for x in range(15)]\n",
    "print(quicksort(array = randints))"
   ]
  },
  {
   "cell_type": "markdown",
   "metadata": {},
   "source": [
    "### Time Complexity\n",
    "\n",
    "- The time complexity of the algorithm depends on the pivot chosen. \n",
    "* Worst-case scenario:\n",
    "    - In a relatively sorted array, choosing the elements close to start or end of array as pivot results in largely unbalanced subarrays.\n",
    "    - This results in height of the stack to approach $n$ instead of $ log(n) $ which is the case when a appropriate pivot is chosen.\n",
    "        - $=>$ (n comparisons/stack) * a stack size of ~n\n",
    "        - $=> O(n^{2})$ in worst case scenario  \n",
    "    - Ex: `[1,2,4,5,6,8,0,9,11,16]`  \n",
    "    <br>\n",
    "        - *pivot: 1* \n",
    "            - smaller_subarray = `[0]`\n",
    "            - larget_subarray = `[2,4,5,6,8,9,11,16] ` \n",
    "    <br>\n",
    "        - *pivot: 11* \n",
    "            - smaller_subarray = `[0,2,4,5,6,8,9,11]`\n",
    "            - larget_subarray = `[16]`  \n",
    "<br>\n",
    "* Best-case scenario:\n",
    "    - When the value of pivot lies almost inbetween the maximum and minimum of the array, the stack size is reduced to $log(n)$, thus resulting in best-case time complexity of $O(n*log(n))$ \n",
    "    - $=>$ (n comparisons/stack) * a stack size of $log(n)$\n",
    "\n",
    "-   || Quick sort|\n",
    "    |:-:|:-:|\n",
    "    |Worst case|$ O(n^2) $|\n",
    "    |Best case|$ O(n*log(n))$|\n",
    "    \n",
    "\n"
   ]
  },
  {
   "cell_type": "markdown",
   "metadata": {},
   "source": [
    "### Horae partition scheme\n",
    "\n",
    "- Pseudocode can be found here. [Quicksort-Wikipedia](https://en.wikipedia.org/wiki/Quicksort)"
   ]
  },
  {
   "cell_type": "code",
   "execution_count": 1,
   "metadata": {},
   "outputs": [],
   "source": [
    "def horae_partition(A:list, lo:int, hi:int):\n",
    "    # Choose a random index as pivot and get the element.\n",
    "    pivot_index = randrange(lo, hi)\n",
    "    pivot = A[pivot_index]\n",
    "    # Move out of the list.\n",
    "    i = lo -1\n",
    "    j = hi +1\n",
    "    \n",
    "    # Repeat till a value gets returned.\n",
    "    while True:\n",
    "\n",
    "        i += 1\n",
    "        # If the element at i is less than pivot, increment i.\n",
    "        while A[i] < pivot:\n",
    "            i += 1\n",
    "\n",
    "        j -= 1\n",
    "        # If the element at j is greater than pivot, decrement j.\n",
    "        while  A[j] > pivot:\n",
    "            j -= 1\n",
    "        # If the low index(i) has crossed the high index(j), return the high index          \n",
    "        if  i >= j:\n",
    "            return j\n",
    "        # Swap if the element at i > element at j.\n",
    "        A[i], A[j] = A[j], A[i]\n",
    "\n",
    "def horae_quicksort(A:list, lo:int, hi: int):\n",
    "\n",
    "    if lo >= 0 and hi >= 0 and lo < hi:\n",
    "        p = horae_partition(A, lo, hi)\n",
    "        horae_quicksort(A, lo, p)\n",
    "        horae_quicksort(A, p+1, hi)"
   ]
  },
  {
   "cell_type": "code",
   "execution_count": 2,
   "metadata": {},
   "outputs": [
    {
     "name": "stdout",
     "output_type": "stream",
     "text": [
      "Before sorting: [760, 944, 231, 139, 875, 944, 93, 783, 507, 323, 116, 24, 898, 277, 208]\n",
      "After sorting: [24, 93, 116, 139, 208, 231, 277, 323, 507, 760, 783, 875, 898, 944, 944]\n"
     ]
    }
   ],
   "source": [
    "from random import randrange\n",
    "\n",
    "randints = [randrange(1, 1000, 23) for x in range(15)]\n",
    "print(f\"Before sorting: {randints}\")\n",
    "n = len(randints)\n",
    "horae_quicksort(randints, 0, n - 1)\n",
    "print(f\"After sorting: {randints}\")\n"
   ]
  },
  {
   "cell_type": "code",
   "execution_count": null,
   "metadata": {},
   "outputs": [],
   "source": []
  }
 ],
 "metadata": {
  "kernelspec": {
   "display_name": "Python 3",
   "language": "python",
   "name": "python3"
  },
  "language_info": {
   "codemirror_mode": {
    "name": "ipython",
    "version": 3
   },
   "file_extension": ".py",
   "mimetype": "text/x-python",
   "name": "python",
   "nbconvert_exporter": "python",
   "pygments_lexer": "ipython3",
   "version": "3.10.6"
  },
  "orig_nbformat": 4
 },
 "nbformat": 4,
 "nbformat_minor": 2
}
