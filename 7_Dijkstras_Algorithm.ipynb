{
 "cells": [
  {
   "cell_type": "markdown",
   "metadata": {},
   "source": [
    "# Dijkstra's Algorithm\n",
    "\n",
    "- Lets one answer, what is the shortest or least costing path in between the nodes in a weighted graph.\n",
    "- Works only with *Directed Acyclic Graphs (DAGs)* i.e works with graphs which do not have symmetric directional nodes or undirectional nodes in them.\n",
    "\n",
    "- ### Steps:\n",
    "    - Find the cheapest node. The node which can be traversed to in least amount of time.\n",
    "    - Update the costs of the neighbors in this node.\n",
    "        - Update the parent of the node, if another node with lesser cost is found.\n",
    "    - Repeat untill all the nodes are covered in the graph.\n",
    "    - Backtrace the final path, by searching the parents.   \n",
    "    \n",
    "    ![image](https://upload.wikimedia.org/wikipedia/commons/2/23/Dijkstras_progress_animation.gif)"
   ]
  },
  {
   "cell_type": "markdown",
   "metadata": {},
   "source": [
    "## Pseudocode\n",
    "\n",
    "```c++\n",
    "// Find the shortest path with all the parents from target to source\n",
    "function Dijkstra(Graph, source, target):\n",
    "    for each vertex v in Graph.vertices:\n",
    "        dist[v] = Infinity\n",
    "        prev[v] = Undefined\n",
    "        add v to Q\n",
    "    dist[source] = 0\n",
    "\n",
    "    while Q is not empty:\n",
    "        u = vertex in Q with min dist[u]\n",
    "        if u == target:\n",
    "            return  dist[], prev[]\n",
    "        else:\n",
    "            remove u from Q\n",
    "    \n",
    "        for each neighbor v of u still in Q:\n",
    "        alt = dist[u] + Graph.Edges(u,v)\n",
    "        if alt < dist[v]:\n",
    "            dist[v] = alt\n",
    "            prev[v] = u\n",
    "\n",
    "    return None, None\n",
    "\n",
    "// Backtrace the lists of dist and prev to output the path\n",
    "S = []\n",
    "u = target\n",
    "s = source\n",
    "g = Graph\n",
    "\n",
    "dist, prev = Dijkstra(g, s, t)\n",
    "\n",
    "if prev[u] is defined or U = source:\n",
    "    while u is defined:\n",
    "        insert u at the beginning of S\n",
    "        u = prev[u]\n",
    "        \n",
    "``` \n",
    "    "
   ]
  },
  {
   "cell_type": "markdown",
   "metadata": {},
   "source": [
    "## Implementation"
   ]
  },
  {
   "cell_type": "code",
   "execution_count": 1,
   "metadata": {},
   "outputs": [],
   "source": [
    "graph: dict[str, dict] = {}\n",
    "graph[\"start\"] = {}\n",
    "graph[\"start\"][\"a\"] = 6\n",
    "graph[\"start\"][\"b\"] = 2\n",
    "graph[\"a\"] = {}\n",
    "graph[\"a\"][\"finish\"] = 1\n",
    "graph[\"b\"] = {}\n",
    "graph[\"b\"][\"a\"] = 3\n",
    "graph[\"b\"][\"finish\"] = 5\n",
    "graph[\"finish\"] = {}\n"
   ]
  },
  {
   "cell_type": "code",
   "execution_count": 2,
   "metadata": {},
   "outputs": [],
   "source": [
    "import math\n",
    "from typing import Union\n",
    "\n",
    "\n",
    "def find_lowest_distance_vertex(distance_from_source: dict, processed: list):\n",
    "    lowest_distnace = math.inf\n",
    "    lowest_distance_vertex = None\n",
    "\n",
    "    for vertex, distance in distance_from_source.items():\n",
    "        if vertex not in processed:\n",
    "            if distance < lowest_distnace:\n",
    "                lowest_distnace = distance\n",
    "                lowest_distance_vertex = vertex\n",
    "\n",
    "    return lowest_distance_vertex\n",
    "\n",
    "\n",
    "def traverse_back(start, end, closest_previous):\n",
    "    traverse = end\n",
    "    route = [end] if end in closest_previous.keys() else []\n",
    "    while traverse != start:\n",
    "        route.append(closest_previous[traverse])\n",
    "        traverse = closest_previous[traverse]\n",
    "    route.reverse()\n",
    "    return route\n",
    "\n",
    "\n",
    "def Djkstras(graph: dict, start: str, end: str):\n",
    "    processed: list[str] = []\n",
    "    dist_from_source: dict[str, Union[int, float]] = {}\n",
    "    closest_previous: dict[str, Union[str, None]] = {}\n",
    "    queue: dict[str, dict] = {}\n",
    "\n",
    "    for vertex, neighbors in graph.items():\n",
    "        dist_from_source[vertex] = math.inf\n",
    "        closest_previous[vertex] = None\n",
    "        queue[vertex] = neighbors\n",
    "    dist_from_source[start] = 0\n",
    "\n",
    "    while len(queue) > 0:\n",
    "        current_vertex = find_lowest_distance_vertex(\n",
    "            distance_from_source=dist_from_source, processed=processed\n",
    "        )\n",
    "\n",
    "        if current_vertex == end:\n",
    "            break\n",
    "        current_vertex_neighbors = queue.pop(current_vertex)\n",
    "\n",
    "        for neighbor_vertex, neighbor_dist in current_vertex_neighbors.items():\n",
    "            # \n",
    "            if neighbor_vertex in queue:\n",
    "                new_distance = neighbor_dist + dist_from_source[current_vertex]\n",
    "\n",
    "                if new_distance < dist_from_source[neighbor_vertex]:\n",
    "                    dist_from_source[neighbor_vertex] = new_distance\n",
    "                    closest_previous[neighbor_vertex] = current_vertex\n",
    "\n",
    "        processed.append(current_vertex)\n",
    "\n",
    "    route = traverse_back(start, end, closest_previous)\n",
    "    dist_end_start = dist_from_source[end]\n",
    "    \n",
    "    return dist_from_source, closest_previous, route, dist_end_start\n",
    "\n"
   ]
  },
  {
   "cell_type": "code",
   "execution_count": 3,
   "metadata": {},
   "outputs": [
    {
     "name": "stdout",
     "output_type": "stream",
     "text": [
      "Shortest route was through: ['start', 'b', 'a', 'finish']\n",
      "Lenght of the route: 6\n"
     ]
    }
   ],
   "source": [
    "distances, routes, route, distance = Djkstras(graph=graph, start=\"start\", end=\"finish\")\n",
    "\n",
    "print(f\"Shortest route was through: {route}\\nLenght of the route: {distance}\")"
   ]
  },
  {
   "cell_type": "code",
   "execution_count": null,
   "metadata": {},
   "outputs": [],
   "source": []
  }
 ],
 "metadata": {
  "kernelspec": {
   "display_name": "Python 3",
   "language": "python",
   "name": "python3"
  },
  "language_info": {
   "codemirror_mode": {
    "name": "ipython",
    "version": 3
   },
   "file_extension": ".py",
   "mimetype": "text/x-python",
   "name": "python",
   "nbconvert_exporter": "python",
   "pygments_lexer": "ipython3",
   "version": "3.10.6"
  },
  "orig_nbformat": 4
 },
 "nbformat": 4,
 "nbformat_minor": 2
}
