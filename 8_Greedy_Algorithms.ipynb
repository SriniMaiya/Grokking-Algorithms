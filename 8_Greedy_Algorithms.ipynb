{
 "cells": [
  {
   "cell_type": "markdown",
   "metadata": {},
   "source": [
    "# [Greedy Algorithms](https://en.wikipedia.org/wiki/Greedy_algorithm)"
   ]
  },
  {
   "cell_type": "markdown",
   "metadata": {},
   "source": [
    "- Non-exhaustive strategy.\n",
    "\n",
    "- Can be considered as short-sighted and non-recoverable strategy.\n",
    "\n",
    "- Is any algorithm that makes locally optimal choice in each stage to solve a problem.\n",
    "\n",
    "- This stratergy is not guranteed to produce an optimal solutions in all cases, but can yield optimal solutions that approximate to globally optimal solution in a resonable amount of time."
   ]
  },
  {
   "cell_type": "markdown",
   "metadata": {},
   "source": [
    "## Selection of problem\n",
    "\n",
    "The algorithm is allowed to make appropriate choice at the moment and then solve the subproblems that arise later.\n",
    "\n",
    "This strategy usually works for the problems with these properties:\n",
    "\n",
    "- The choice made by the algorithm may depend on the previous choices it has made, but not on the future choices or all the solutions to the subproblem.\n",
    "\n",
    "    - i.e. The algorithm never reconsiders its choice.\n",
    "<br>\n",
    "<br>\n",
    "\n",
    "- The problem exhibits an optimal substructure, if an optimal solution to the problem contains optimal solutions to the sub-problems.\n",
    "   \n",
    "    - Optimal substructure: If an optimal solution could be constructed from the optimal solutions to the sub-problems. (i.e the solutions to the subproblems must be aligned or in a way proportional to the optimal solution to the main problem, giving it a structure. )\n",
    "\n",
    "        - I imagine it as the iron fillings aligning in the direction of the magnetic field when brought close to a magnet. The iron fillings can be visualized as sub-problems, giving structure to the invisible magnetic field. \n",
    "\n",
    "<br>\n",
    "\n",
    "\n",
    "### Cases of failure\n",
    "To sum up to the largest possible sum in this graph, the greedy algorithm chooses the immidiate largest number which is connected to the  starting vertex 7 (12, as 12 > 3) thus travelling in the wrong path 7 -> 12 -> 6 and summing up to 25.\n",
    "\n",
    "The actual largest path would be 7-> 3 -> 99\n",
    "\n",
    "\n",
    "\n",
    " <p align=\"center\">\n",
    "  <img src=\"https://upload.wikimedia.org/wikipedia/commons/8/8c/Greedy-search-path-example.gif\" />\n",
    "</p>\n",
    "\n",
    "- Travelling salesman problem is one of the cases where Greedy strategy fails to produce a optimal result.\n",
    "    "
   ]
  },
  {
   "cell_type": "markdown",
   "metadata": {},
   "source": [
    "### Travelling Salesman Problem\n",
    "\n",
    "- Suppose there is a salesman who needs to travel n cities to pitch his product. The salesman would like to find the shortest path between the five cities. This problem has a time complexity of $O(n!)$, as there are n! possible routes and one of them might be the most efficient.\n",
    "  \n",
    "    ![Travelling Salesman](https://github.com/egonSchiele/grokking_algorithms/blob/master/images/01_introduction_to_algorithms/012_big-O-notation/brute_force_tsp.png?raw=true)\n",
    "\n",
    "- As the number of cities increase, the number of possible routes increase factorially.\n",
    "\n",
    "    ![Routes](https://github.com/egonSchiele/grokking_algorithms/blob/master/images/08_greedy_algorithms/084_np_complete_problems/num_routes_factorial.png?raw=true)\n",
    "\n"
   ]
  },
  {
   "cell_type": "markdown",
   "metadata": {},
   "source": [
    "- As Greedy algorithms are non exhaustive algorithms, it is easy to pick the optimal solution at a step, which redirects all the sub-problems to a non-optimal solution-space from which a solution has to be chosen."
   ]
  }
 ],
 "metadata": {
  "kernelspec": {
   "display_name": "Python 3",
   "language": "python",
   "name": "python3"
  },
  "language_info": {
   "name": "python",
   "version": "3.10.6"
  },
  "orig_nbformat": 4
 },
 "nbformat": 4,
 "nbformat_minor": 2
}
